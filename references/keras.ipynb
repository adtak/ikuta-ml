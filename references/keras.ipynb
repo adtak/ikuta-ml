{
 "metadata": {
  "language_info": {
   "codemirror_mode": {
    "name": "ipython",
    "version": 3
   },
   "file_extension": ".py",
   "mimetype": "text/x-python",
   "name": "python",
   "nbconvert_exporter": "python",
   "pygments_lexer": "ipython3",
   "version": "3.8.5"
  },
  "orig_nbformat": 2,
  "kernelspec": {
   "name": "pythonjvsc74a57bd059cc88d56f6e772a4a703a7ff3a1ef77bec5c3c433b245d842aefcfe9623a485",
   "display_name": "Python 3.8.5  ('.venv': poetry)"
  },
  "metadata": {
   "interpreter": {
    "hash": "59cc88d56f6e772a4a703a7ff3a1ef77bec5c3c433b245d842aefcfe9623a485"
   }
  }
 },
 "nbformat": 4,
 "nbformat_minor": 2,
 "cells": [
  {
   "source": [
    "# LSTM"
   ],
   "cell_type": "markdown",
   "metadata": {}
  },
  {
   "cell_type": "code",
   "execution_count": 1,
   "metadata": {},
   "outputs": [],
   "source": [
    "from tensorflow.keras.models import Model\n",
    "from tensorflow.keras.layers import Input, LSTM\n",
    "from numpy import array"
   ]
  },
  {
   "cell_type": "code",
   "execution_count": 2,
   "metadata": {},
   "outputs": [],
   "source": [
    "data = array([0.1, 0.2, 0.3]).reshape((1, 3, 1))"
   ]
  },
  {
   "cell_type": "code",
   "execution_count": 3,
   "metadata": {},
   "outputs": [],
   "source": [
    "def try_simple(data):\n",
    "    input = Input(shape=(3, 1))\n",
    "    lstm = LSTM(1)(input)\n",
    "    model = Model(input, lstm)\n",
    "\n",
    "    result = model.predict(data)\n",
    "\n",
    "    print(result)\n",
    "    print(result.shape)"
   ]
  },
  {
   "cell_type": "code",
   "execution_count": 4,
   "metadata": {},
   "outputs": [
    {
     "output_type": "stream",
     "name": "stdout",
     "text": [
      "[[0.05411753]]\n(1, 1)\n"
     ]
    }
   ],
   "source": [
    "try_simple(data)"
   ]
  },
  {
   "source": [
    "最終的な出力hのみ"
   ],
   "cell_type": "markdown",
   "metadata": {}
  },
  {
   "cell_type": "code",
   "execution_count": 5,
   "metadata": {},
   "outputs": [],
   "source": [
    "def try_return_sequences(data):\n",
    "    input = Input(shape=(3, 1))\n",
    "    lstm = LSTM(1, return_sequences=True)(input)\n",
    "    model = Model(input, lstm)\n",
    "\n",
    "    result = model.predict(data)\n",
    "\n",
    "    print(result)\n",
    "    print(result.shape)"
   ]
  },
  {
   "cell_type": "code",
   "execution_count": 6,
   "metadata": {},
   "outputs": [
    {
     "output_type": "stream",
     "name": "stdout",
     "text": [
      "[[[-0.00688508]\n  [-0.01882693]\n  [-0.03456327]]]\n(1, 3, 1)\n"
     ]
    }
   ],
   "source": [
    "try_return_sequences(data)"
   ]
  },
  {
   "source": [
    "全てのtimestepでhを出力"
   ],
   "cell_type": "markdown",
   "metadata": {}
  },
  {
   "cell_type": "code",
   "execution_count": 7,
   "metadata": {},
   "outputs": [],
   "source": [
    "def try_return_state(data):\n",
    "    input = Input(shape=(3, 1))\n",
    "    lstm, state_h, state_c = LSTM(1, return_state=True)(input)\n",
    "\n",
    "    model = Model(input, [lstm, state_h, state_c])\n",
    "\n",
    "    result = model.predict(data)\n",
    "    print(result)\n",
    "    print(result[0].shape)\n",
    "    print(result[1].shape)\n",
    "    print(result[2].shape)"
   ]
  },
  {
   "cell_type": "code",
   "execution_count": 8,
   "metadata": {},
   "outputs": [
    {
     "output_type": "stream",
     "name": "stdout",
     "text": [
      "[[[0.0261413 ]\n  [0.06979267]\n  [0.12380384]]]\n(1, 3, 1)\n"
     ]
    }
   ],
   "source": [
    "try_return_sequences(data)"
   ]
  },
  {
   "source": [
    "最終的な出力と、最終的なhとcが出力。当然、最終的な出力=最終的なh"
   ],
   "cell_type": "markdown",
   "metadata": {}
  },
  {
   "cell_type": "code",
   "execution_count": 9,
   "metadata": {},
   "outputs": [],
   "source": [
    "def try_return_sequences_n_state(data):\n",
    "    input = Input(shape=(3, 1))\n",
    "    lstm, state_h, state_c = LSTM(\n",
    "        1, return_sequences=True, return_state=True)(input)\n",
    "\n",
    "    model = Model(input, [lstm, state_h, state_c])\n",
    "\n",
    "    result = model.predict(data)\n",
    "    print(result)\n",
    "    print(result[0].shape)\n",
    "    print(result[1].shape)\n",
    "    print(result[2].shape)"
   ]
  },
  {
   "cell_type": "code",
   "execution_count": 10,
   "metadata": {},
   "outputs": [
    {
     "output_type": "stream",
     "name": "stdout",
     "text": [
      "[array([[[-0.00163741],\n        [-0.00495622],\n        [-0.01005341]]], dtype=float32), array([[-0.01005341]], dtype=float32), array([[-0.01981505]], dtype=float32)]\n(1, 3, 1)\n(1, 1)\n(1, 1)\n"
     ]
    }
   ],
   "source": [
    "try_return_sequences_n_state(data)"
   ]
  },
  {
   "source": [
    "全てのtimestepにおけるhと、最終的なhとcが出力"
   ],
   "cell_type": "markdown",
   "metadata": {}
  },
  {
   "cell_type": "code",
   "execution_count": null,
   "metadata": {},
   "outputs": [],
   "source": []
  }
 ]
}